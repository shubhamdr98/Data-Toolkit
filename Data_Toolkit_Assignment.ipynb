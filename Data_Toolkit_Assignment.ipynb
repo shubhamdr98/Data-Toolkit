{
  "cells": [
    {
      "cell_type": "markdown",
      "id": "c14a761d",
      "metadata": {
        "id": "c14a761d"
      },
      "source": [
        "# 1. What is NumPy, and why is it widely used in Python\n",
        "NumPy (Numerical Python) is a core library for numerical computations in Python. It provides fast, memory-efficient operations for large, multi-dimensional arrays and matrices along with mathematical functions, making it essential for scientific computing."
      ]
    },
    {
      "cell_type": "markdown",
      "id": "da2820e1",
      "metadata": {
        "id": "da2820e1"
      },
      "source": [
        "# 2. How does broadcasting work in NumPy\n",
        "Broadcasting allows NumPy to perform operations on arrays of different shapes by automatically expanding smaller arrays to match the shape of larger arrays, without explicit replication."
      ]
    },
    {
      "cell_type": "markdown",
      "id": "278fd59f",
      "metadata": {
        "id": "278fd59f"
      },
      "source": [
        "# 3. What is a Pandas DataFrame\n",
        "A Pandas DataFrame is a two-dimensional, labeled data structure with rows and columns, similar to a spreadsheet or SQL table, used for data manipulation and analysis."
      ]
    },
    {
      "cell_type": "markdown",
      "id": "3a0d3a02",
      "metadata": {
        "id": "3a0d3a02"
      },
      "source": [
        "# 4. Explain the use of the groupby() method in Pandas\n",
        "The groupby() method splits data into groups based on specified criteria, allowing aggregate operations (sum, mean, count, etc.) on each group independently."
      ]
    },
    {
      "cell_type": "markdown",
      "id": "b4e8e7b2",
      "metadata": {
        "id": "b4e8e7b2"
      },
      "source": [
        "# 5. Why is Seaborn preferred for statistical visualizations\n",
        "Seaborn builds on Matplotlib and provides a high-level interface for drawing attractive, informative statistical graphics with less code and built-in support for complex visualizations."
      ]
    },
    {
      "cell_type": "markdown",
      "id": "e91cf5c7",
      "metadata": {
        "id": "e91cf5c7"
      },
      "source": [
        "# 6. What are the differences between NumPy arrays and Python lists\n",
        "- NumPy arrays support fast, element-wise operations and have fixed, homogenous data types.\n",
        "- Python lists are slower, more memory-intensive, and can hold heterogeneous data types."
      ]
    },
    {
      "cell_type": "markdown",
      "id": "dba689b3",
      "metadata": {
        "id": "dba689b3"
      },
      "source": [
        "# 7. What is a heatmap, and when should it be used\n",
        "A heatmap is a graphical representation of data where values are depicted using color gradients. It is useful for visualizing matrices, correlations, and data density."
      ]
    },
    {
      "cell_type": "markdown",
      "id": "218c2d8b",
      "metadata": {
        "id": "218c2d8b"
      },
      "source": [
        "# 8. What does the term 'vectorized operation' mean in NumPy\n",
        "Vectorized operations apply functions or arithmetic to entire arrays (rather than each element individually), leading to faster execution through optimized C libraries."
      ]
    },
    {
      "cell_type": "markdown",
      "id": "0962a3c3",
      "metadata": {
        "id": "0962a3c3"
      },
      "source": [
        "# 9. How does Matplotlib differ from Plotly\n",
        "Matplotlib produces static, highly customizable graphics, while Plotly makes interactive, web-friendly plots with tooltips, zoom, and export features."
      ]
    },
    {
      "cell_type": "markdown",
      "id": "4d2c70ef",
      "metadata": {
        "id": "4d2c70ef"
      },
      "source": [
        "# 10. What is the significance of hierarchical indexing in Pandas\n",
        "Hierarchical indexing (MultiIndex) allows Pandas Series and DataFrames to use multiple levels of row/column labels, enabling complex data representation and selection."
      ]
    },
    {
      "cell_type": "markdown",
      "id": "a24fd028",
      "metadata": {
        "id": "a24fd028"
      },
      "source": [
        "# 11. What is the role of Seaborn’s pairplot() function\n",
        "The pairplot() function displays pairwise relationships and distributions between multiple numerical variables in a dataset, aiding pattern and correlation discovery."
      ]
    },
    {
      "cell_type": "markdown",
      "id": "cdfbcf96",
      "metadata": {
        "id": "cdfbcf96"
      },
      "source": [
        "# 12. What is the purpose of the describe() function in Pandas\n",
        "describe() generates summary statistics (mean, std, quartiles, etc.) for numeric columns of a DataFrame, useful for initial exploratory analysis."
      ]
    },
    {
      "cell_type": "markdown",
      "id": "9c195571",
      "metadata": {
        "id": "9c195571"
      },
      "source": [
        "# 13. Why is handling missing data important in Pandas\n",
        "Unaddressed missing data can cause errors and misleading results. Pandas provides tools to detect, impute, and filter missing values for accurate analysis."
      ]
    },
    {
      "cell_type": "markdown",
      "id": "b5d463d6",
      "metadata": {
        "id": "b5d463d6"
      },
      "source": [
        "# 14. What are the benefits of using Plotly for data visualization\n",
        "Plotly supports interactive, web-based, and shareable plots, offers rich chart types, and is easily integrable into dashboards and web apps."
      ]
    },
    {
      "cell_type": "markdown",
      "id": "b6e949d2",
      "metadata": {
        "id": "b6e949d2"
      },
      "source": [
        "# 15. How does NumPy handle multidimensional arrays\n",
        "NumPy manages n-dimensional arrays (ndarrays) efficiently, supporting operations, slicing, and reshaping across multiple dimensions."
      ]
    },
    {
      "cell_type": "markdown",
      "id": "2dba337f",
      "metadata": {
        "id": "2dba337f"
      },
      "source": [
        "# 16. What is the role of Bokeh in data visualization\n",
        "Bokeh creates interactive, browser-based visualizations suitable for dashboards, streaming data, and web applications."
      ]
    },
    {
      "cell_type": "markdown",
      "id": "68fcbc44",
      "metadata": {
        "id": "68fcbc44"
      },
      "source": [
        "# 17. Explain the difference between apply() and map() in Pandas\n",
        "map() performs element-wise operations on a Series, while apply() can execute functions along an axis (rows or columns) of Series or DataFrames."
      ]
    },
    {
      "cell_type": "markdown",
      "id": "5002c8ff",
      "metadata": {
        "id": "5002c8ff"
      },
      "source": [
        "# 18. What are some advanced features of NumPy\n",
        "Advanced features include broadcasting, linear algebra routines, random sampling, masked arrays, FFT, and structured arrays."
      ]
    },
    {
      "cell_type": "markdown",
      "id": "4331eef5",
      "metadata": {
        "id": "4331eef5"
      },
      "source": [
        "# 19. How does Pandas simplify time series analysis\n",
        "Pandas provides datetime indexing, resampling, frequency conversion, rolling and shifting computations, and intuitive parsing for time-based datasets."
      ]
    },
    {
      "cell_type": "markdown",
      "id": "6bb41d38",
      "metadata": {
        "id": "6bb41d38"
      },
      "source": [
        "# 20. What is the role of a pivot table in Pandas\n",
        "Pivot tables allow data summarization, aggregation, and restructuring by categorical variables, simplifying analysis of complex datasets."
      ]
    },
    {
      "cell_type": "markdown",
      "id": "d6d1e277",
      "metadata": {
        "id": "d6d1e277"
      },
      "source": [
        "# 21. Why is NumPy’s array slicing faster than Python’s list slicing\n",
        "NumPy uses contiguous memory and optimized C routines for slicing, whereas Python lists are generic objects with more overhead."
      ]
    },
    {
      "cell_type": "markdown",
      "id": "4f3a14af",
      "metadata": {
        "id": "4f3a14af"
      },
      "source": [
        "# 22. What are some common use cases for Seaborn?\n",
        "- Distribution plots (histograms, KDEs)\n",
        "- Pairwise relationship plots (scatter, pairplot)\n",
        "- Categorical plots (box, violin, bar)\n",
        "- Correlation and heatmap visualizations"
      ]
    },
    {
      "cell_type": "markdown",
      "source": [
        "# Practical Questions"
      ],
      "metadata": {
        "id": "JJzrwUNJpu7y"
      },
      "id": "JJzrwUNJpu7y"
    },
    {
      "cell_type": "code",
      "execution_count": 3,
      "id": "5896940f",
      "metadata": {
        "colab": {
          "base_uri": "https://localhost:8080/"
        },
        "id": "5896940f",
        "outputId": "53bf9c68-84f5-4b11-cc72-eb3a2fa8af18"
      },
      "outputs": [
        {
          "output_type": "stream",
          "name": "stdout",
          "text": [
            "2D Array:\n",
            " [[1 2 3]\n",
            " [4 5 6]]\n",
            "Sum of each row: [ 6 15]\n"
          ]
        }
      ],
      "source": [
        "# 1. Create a 2D NumPy array and calculate the sum of each row\n",
        "import numpy as np\n",
        "arr = np.array([[1, 2, 3], [4, 5, 6]])\n",
        "row_sums = arr.sum(axis=1)\n",
        "print(\"2D Array:\\n\", arr)\n",
        "print(\"Sum of each row:\", row_sums)\n"
      ]
    },
    {
      "cell_type": "code",
      "execution_count": 4,
      "id": "acdc12c3",
      "metadata": {
        "colab": {
          "base_uri": "https://localhost:8080/"
        },
        "id": "acdc12c3",
        "outputId": "412b87cb-9535-4867-ea26-7d53d97909ea"
      },
      "outputs": [
        {
          "output_type": "stream",
          "name": "stdout",
          "text": [
            "Mean of column B: 5.0\n"
          ]
        }
      ],
      "source": [
        "# 2. Write a Pandas script to find the mean of a specific column in a DataFrame\n",
        "import pandas as pd\n",
        "df = pd.DataFrame({'A': [1, 2, 3], 'B': [4, 5, 6]})\n",
        "mean_B = df['B'].mean()\n",
        "print('Mean of column B:', mean_B)"
      ]
    },
    {
      "cell_type": "code",
      "execution_count": 5,
      "id": "c8a44b0f",
      "metadata": {
        "colab": {
          "base_uri": "https://localhost:8080/",
          "height": 472
        },
        "id": "c8a44b0f",
        "outputId": "bc46b3f9-19d0-4a99-8f9e-0c89b9e7cfff"
      },
      "outputs": [
        {
          "output_type": "display_data",
          "data": {
            "text/plain": [
              "<Figure size 640x480 with 1 Axes>"
            ],
            "image/png": "[encoded data removed]"
          },
          "metadata": {}
        }
      ],
      "source": [
        "# 3. Create a scatter plot using Matplotlib\n",
        "import matplotlib.pyplot as plt\n",
        "x = [1, 2, 3, 4]\n",
        "y = [10, 15, 13, 17]\n",
        "plt.scatter(x, y)\n",
        "plt.xlabel('X')\n",
        "plt.ylabel('Y')\n",
        "plt.title('Scatter Plot')\n",
        "plt.show()"
      ]
    },
    {
      "cell_type": "code",
      "execution_count": 6,
      "id": "67793438",
      "metadata": {
        "colab": {
          "base_uri": "https://localhost:8080/",
          "height": 452
        },
        "id": "67793438",
        "outputId": "44b0b32d-74ae-46b4-92bd-7150cfbee2e0"
      },
      "outputs": [
        {
          "output_type": "display_data",
          "data": {
            "text/plain": [
              "<Figure size 640x480 with 2 Axes>"
            ],
            "image/png": "[encoded data removed]"
          },
          "metadata": {}
        }
      ],
      "source": [
        "# 4. Calculate the correlation matrix using Seaborn and visualize it with a heatmap\n",
        "import seaborn as sns\n",
        "import matplotlib.pyplot as plt\n",
        "df_corr = pd.DataFrame({'A': [1, 2, 3], 'B': [4, 5, 6], 'C': [7, 8, 9]})\n",
        "cor_matrix = df_corr.corr()\n",
        "sns.heatmap(cor_matrix, annot=True)\n",
        "plt.title('Correlation Matrix Heatmap')\n",
        "plt.show()"
      ]
    },
    {
      "cell_type": "code",
      "execution_count": null,
      "id": "efef2513",
      "metadata": {
        "id": "efef2513"
      },
      "outputs": [],
      "source": [
        "# 5. Generate a bar plot using Plotly\n",
        "import plotly.express as px\n",
        "data_bar = {'Fruit': ['Apple', 'Banana', 'Cherry'], 'Count': [10, 20, 15]}\n",
        "df_bar = pd.DataFrame(data_bar)\n",
        "fig = px.bar(df_bar, x='Fruit', y='Count', title='Fruit Count Bar Plot')\n",
        "fig.show()"
      ]
    },
    {
      "cell_type": "code",
      "execution_count": null,
      "id": "2a0fa66d",
      "metadata": {
        "id": "2a0fa66d"
      },
      "outputs": [],
      "source": [
        "# 6. Create a DataFrame and add a new column based on an existing column\n",
        "df['Double_A'] = df['A'] * 2\n",
        "print(df)"
      ]
    },
    {
      "cell_type": "code",
      "execution_count": null,
      "id": "a5724576",
      "metadata": {
        "id": "a5724576"
      },
      "outputs": [],
      "source": [
        "# 7. Element-wise multiplication of two NumPy arrays\n",
        "arr1 = np.array([1, 2, 3])\n",
        "arr2 = np.array([4, 5, 6])\n",
        "product = arr1 * arr2\n",
        "print('Element-wise multiplication:', product)"
      ]
    },
    {
      "cell_type": "code",
      "execution_count": null,
      "id": "b30524a8",
      "metadata": {
        "id": "b30524a8"
      },
      "outputs": [],
      "source": [
        "# 8. Create a line plot with multiple lines using Matplotlib\n",
        "x = [0, 1, 2, 3]\n",
        "y1 = [0, 1, 4, 9]\n",
        "y2 = [0, -1, -4, -9]\n",
        "import matplotlib.pyplot as plt\n",
        "plt.plot(x, y1, label='y = x^2')\n",
        "plt.plot(x, y2, label='y = -x^2')\n",
        "plt.legend()\n",
        "plt.title('Multiple Lines Plot')\n",
        "plt.show()"
      ]
    },
    {
      "cell_type": "code",
      "execution_count": null,
      "id": "7e271cc7",
      "metadata": {
        "id": "7e271cc7"
      },
      "outputs": [],
      "source": [
        "# 9. Generate a Pandas DataFrame and filter rows where a column value is greater than a threshold\n",
        "df_filt = pd.DataFrame({'A': [1, 5, 2, 8], 'B': [3, 6, 7, 2]})\n",
        "filtered = df_filt[df_filt['A'] > 4]\n",
        "print(filtered)"
      ]
    },
    {
      "cell_type": "code",
      "execution_count": null,
      "id": "f3008cbb",
      "metadata": {
        "id": "f3008cbb"
      },
      "outputs": [],
      "source": [
        "# 10. Create a histogram using Seaborn to visualize a distribution\n",
        "data_hist = [1,2,2,3,3,3,4,4,5]\n",
        "import seaborn as sns\n",
        "import matplotlib.pyplot as plt\n",
        "sns.histplot(data_hist, bins=5, kde=True)\n",
        "plt.title('Distribution Histogram')\n",
        "plt.show()"
      ]
    },
    {
      "cell_type": "code",
      "execution_count": null,
      "id": "45d98cc0",
      "metadata": {
        "id": "45d98cc0"
      },
      "outputs": [],
      "source": [
        "# 11. Perform matrix multiplication using NumPy\n",
        "matrix1 = np.array([[1,2],[3,4]])\n",
        "matrix2 = np.array([[5,6],[7,8]])\n",
        "result = np.dot(matrix1, matrix2)\n",
        "print('Matrix multiplication:\n",
        "', result)"
      ]
    },
    {
      "cell_type": "code",
      "execution_count": 8,
      "id": "6b70d02e",
      "metadata": {
        "id": "6b70d02e"
      },
      "outputs": [],
      "source": [
        "# 12. Use Pandas to load a CSV file and display its first 5 rows\n",
        "# Uncomment and replace 'sample.csv' with your own file path\n",
        "# df_csv = pd.read_csv('sample.csv')\n",
        "# print(df_csv.head())"
      ]
    },
    {
      "cell_type": "code",
      "execution_count": 7,
      "id": "bc3def56",
      "metadata": {
        "colab": {
          "base_uri": "https://localhost:8080/",
          "height": 542
        },
        "id": "bc3def56",
        "outputId": "2b50f4ec-e706-45ab-b591-b5e5658ba41d"
      },
      "outputs": [
        {
          "output_type": "display_data",
          "data": {
            "text/html": [
              "<html>\n",
              "<head><meta charset=\"utf-8\" /></head>\n",
              "<body>\n",
              "    <div>            <script src=\"https://cdnjs.cloudflare.com/ajax/libs/mathjax/2.7.5/MathJax.js?config=TeX-AMS-MML_SVG\"></script><script type=\"text/javascript\">if (window.MathJax && window.MathJax.Hub && window.MathJax.Hub.Config) {window.MathJax.Hub.Config({SVG: {font: \"STIX-Web\"}});}</script>                <script type=\"text/javascript\">window.PlotlyConfig = {MathJaxConfig: 'local'};</script>\n",
              "        <script charset=\"utf-8\" src=\"https://cdn.plot.ly/plotly-2.35.2.min.js\"></script>                <div id=\"b5508dcc-3663-4d15-a1e7-257eb3869583\" class=\"plotly-graph-div\" style=\"height:525px; width:100%;\"></div>            <script type=\"text/javascript\">                                    window.PLOTLYENV=window.PLOTLYENV || {};                                    if (document.getElementById(\"b5508dcc-3663-4d15-a1e7-257eb3869583\")) {                    Plotly.newPlot(                        \"b5508dcc-3663-4d15-a1e7-257eb3869583\",                        [{\"mode\":\"markers\",\"x\":[1,2,3,4],\"y\":[10,11,12,13],\"z\":[20,21,22,23],\"type\":\"scatter3d\"}],                        {\"template\":{\"data\":{\"histogram2dcontour\":[{\"type\":\"histogram2dcontour\",\"colorbar\":{\"outlinewidth\":0,\"ticks\":\"\"},\"colorscale\":[[0.0,\"#0d0887\"],[0.1111111111111111,\"#46039f\"],[0.2222222222222222,\"#7201a8\"],[0.3333333333333333,\"#9c179e\"],[0.4444444444444444,\"#bd3786\"],[0.5555555555555556,\"#d8576b\"],[0.6666666666666666,\"#ed7953\"],[0.7777777777777778,\"#fb9f3a\"],[0.8888888888888888,\"#fdca26\"],[1.0,\"#f0f921\"]]}],\"choropleth\":[{\"type\":\"choropleth\",\"colorbar\":{\"outlinewidth\":0,\"ticks\":\"\"}}],\"histogram2d\":[{\"type\":\"histogram2d\",\"colorbar\":{\"outlinewidth\":0,\"ticks\":\"\"},\"colorscale\":[[0.0,\"#0d0887\"],[0.1111111111111111,\"#46039f\"],[0.2222222222222222,\"#7201a8\"],[0.3333333333333333,\"#9c179e\"],[0.4444444444444444,\"#bd3786\"],[0.5555555555555556,\"#d8576b\"],[0.6666666666666666,\"#ed7953\"],[0.7777777777777778,\"#fb9f3a\"],[0.8888888888888888,\"#fdca26\"],[1.0,\"#f0f921\"]]}],\"heatmap\":[{\"type\":\"heatmap\",\"colorbar\":{\"outlinewidth\":0,\"ticks\":\"\"},\"colorscale\":[[0.0,\"#0d0887\"],[0.1111111111111111,\"#46039f\"],[0.2222222222222222,\"#7201a8\"],[0.3333333333333333,\"#9c179e\"],[0.4444444444444444,\"#bd3786\"],[0.5555555555555556,\"#d8576b\"],[0.6666666666666666,\"#ed7953\"],[0.7777777777777778,\"#fb9f3a\"],[0.8888888888888888,\"#fdca26\"],[1.0,\"#f0f921\"]]}],\"heatmapgl\":[{\"type\":\"heatmapgl\",\"colorbar\":{\"outlinewidth\":0,\"ticks\":\"\"},\"colorscale\":[[0.0,\"#0d0887\"],[0.1111111111111111,\"#46039f\"],[0.2222222222222222,\"#7201a8\"],[0.3333333333333333,\"#9c179e\"],[0.4444444444444444,\"#bd3786\"],[0.5555555555555556,\"#d8576b\"],[0.6666666666666666,\"#ed7953\"],[0.7777777777777778,\"#fb9f3a\"],[0.8888888888888888,\"#fdca26\"],[1.0,\"#f0f921\"]]}],\"contourcarpet\":[{\"type\":\"contourcarpet\",\"colorbar\":{\"outlinewidth\":0,\"ticks\":\"\"}}],\"contour\":[{\"type\":\"contour\",\"colorbar\":{\"outlinewidth\":0,\"ticks\":\"\"},\"colorscale\":[[0.0,\"#0d0887\"],[0.1111111111111111,\"#46039f\"],[0.2222222222222222,\"#7201a8\"],[0.3333333333333333,\"#9c179e\"],[0.4444444444444444,\"#bd3786\"],[0.5555555555555556,\"#d8576b\"],[0.6666666666666666,\"#ed7953\"],[0.7777777777777778,\"#fb9f3a\"],[0.8888888888888888,\"#fdca26\"],[1.0,\"#f0f921\"]]}],\"surface\":[{\"type\":\"surface\",\"colorbar\":{\"outlinewidth\":0,\"ticks\":\"\"},\"colorscale\":[[0.0,\"#0d0887\"],[0.1111111111111111,\"#46039f\"],[0.2222222222222222,\"#7201a8\"],[0.3333333333333333,\"#9c179e\"],[0.4444444444444444,\"#bd3786\"],[0.5555555555555556,\"#d8576b\"],[0.6666666666666666,\"#ed7953\"],[0.7777777777777778,\"#fb9f3a\"],[0.8888888888888888,\"#fdca26\"],[1.0,\"#f0f921\"]]}],\"mesh3d\":[{\"type\":\"mesh3d\",\"colorbar\":{\"outlinewidth\":0,\"ticks\":\"\"}}],\"scatter\":[{\"fillpattern\":{\"fillmode\":\"overlay\",\"size\":10,\"solidity\":0.2},\"type\":\"scatter\"}],\"parcoords\":[{\"type\":\"parcoords\",\"line\":{\"colorbar\":{\"outlinewidth\":0,\"ticks\":\"\"}}}],\"scatterpolargl\":[{\"type\":\"scatterpolargl\",\"marker\":{\"colorbar\":{\"outlinewidth\":0,\"ticks\":\"\"}}}],\"bar\":[{\"error_x\":{\"color\":\"#2a3f5f\"},\"error_y\":{\"color\":\"#2a3f5f\"},\"marker\":{\"line\":{\"color\":\"#E5ECF6\",\"width\":0.5},\"pattern\":{\"fillmode\":\"overlay\",\"size\":10,\"solidity\":0.2}},\"type\":\"bar\"}],\"scattergeo\":[{\"type\":\"scattergeo\",\"marker\":{\"colorbar\":{\"outlinewidth\":0,\"ticks\":\"\"}}}],\"scatterpolar\":[{\"type\":\"scatterpolar\",\"marker\":{\"colorbar\":{\"outlinewidth\":0,\"ticks\":\"\"}}}],\"histogram\":[{\"marker\":{\"pattern\":{\"fillmode\":\"overlay\",\"size\":10,\"solidity\":0.2}},\"type\":\"histogram\"}],\"scattergl\":[{\"type\":\"scattergl\",\"marker\":{\"colorbar\":{\"outlinewidth\":0,\"ticks\":\"\"}}}],\"scatter3d\":[{\"type\":\"scatter3d\",\"line\":{\"colorbar\":{\"outlinewidth\":0,\"ticks\":\"\"}},\"marker\":{\"colorbar\":{\"outlinewidth\":0,\"ticks\":\"\"}}}],\"scattermapbox\":[{\"type\":\"scattermapbox\",\"marker\":{\"colorbar\":{\"outlinewidth\":0,\"ticks\":\"\"}}}],\"scatterternary\":[{\"type\":\"scatterternary\",\"marker\":{\"colorbar\":{\"outlinewidth\":0,\"ticks\":\"\"}}}],\"scattercarpet\":[{\"type\":\"scattercarpet\",\"marker\":{\"colorbar\":{\"outlinewidth\":0,\"ticks\":\"\"}}}],\"carpet\":[{\"aaxis\":{\"endlinecolor\":\"#2a3f5f\",\"gridcolor\":\"white\",\"linecolor\":\"white\",\"minorgridcolor\":\"white\",\"startlinecolor\":\"#2a3f5f\"},\"baxis\":{\"endlinecolor\":\"#2a3f5f\",\"gridcolor\":\"white\",\"linecolor\":\"white\",\"minorgridcolor\":\"white\",\"startlinecolor\":\"#2a3f5f\"},\"type\":\"carpet\"}],\"table\":[{\"cells\":{\"fill\":{\"color\":\"#EBF0F8\"},\"line\":{\"color\":\"white\"}},\"header\":{\"fill\":{\"color\":\"#C8D4E3\"},\"line\":{\"color\":\"white\"}},\"type\":\"table\"}],\"barpolar\":[{\"marker\":{\"line\":{\"color\":\"#E5ECF6\",\"width\":0.5},\"pattern\":{\"fillmode\":\"overlay\",\"size\":10,\"solidity\":0.2}},\"type\":\"barpolar\"}],\"pie\":[{\"automargin\":true,\"type\":\"pie\"}]},\"layout\":{\"autotypenumbers\":\"strict\",\"colorway\":[\"#636efa\",\"#EF553B\",\"#00cc96\",\"#ab63fa\",\"#FFA15A\",\"#19d3f3\",\"#FF6692\",\"#B6E880\",\"#FF97FF\",\"#FECB52\"],\"font\":{\"color\":\"#2a3f5f\"},\"hovermode\":\"closest\",\"hoverlabel\":{\"align\":\"left\"},\"paper_bgcolor\":\"white\",\"plot_bgcolor\":\"#E5ECF6\",\"polar\":{\"bgcolor\":\"#E5ECF6\",\"angularaxis\":{\"gridcolor\":\"white\",\"linecolor\":\"white\",\"ticks\":\"\"},\"radialaxis\":{\"gridcolor\":\"white\",\"linecolor\":\"white\",\"ticks\":\"\"}},\"ternary\":{\"bgcolor\":\"#E5ECF6\",\"aaxis\":{\"gridcolor\":\"white\",\"linecolor\":\"white\",\"ticks\":\"\"},\"baxis\":{\"gridcolor\":\"white\",\"linecolor\":\"white\",\"ticks\":\"\"},\"caxis\":{\"gridcolor\":\"white\",\"linecolor\":\"white\",\"ticks\":\"\"}},\"coloraxis\":{\"colorbar\":{\"outlinewidth\":0,\"ticks\":\"\"}},\"colorscale\":{\"sequential\":[[0.0,\"#0d0887\"],[0.1111111111111111,\"#46039f\"],[0.2222222222222222,\"#7201a8\"],[0.3333333333333333,\"#9c179e\"],[0.4444444444444444,\"#bd3786\"],[0.5555555555555556,\"#d8576b\"],[0.6666666666666666,\"#ed7953\"],[0.7777777777777778,\"#fb9f3a\"],[0.8888888888888888,\"#fdca26\"],[1.0,\"#f0f921\"]],\"sequentialminus\":[[0.0,\"#0d0887\"],[0.1111111111111111,\"#46039f\"],[0.2222222222222222,\"#7201a8\"],[0.3333333333333333,\"#9c179e\"],[0.4444444444444444,\"#bd3786\"],[0.5555555555555556,\"#d8576b\"],[0.6666666666666666,\"#ed7953\"],[0.7777777777777778,\"#fb9f3a\"],[0.8888888888888888,\"#fdca26\"],[1.0,\"#f0f921\"]],\"diverging\":[[0,\"#8e0152\"],[0.1,\"#c51b7d\"],[0.2,\"#de77ae\"],[0.3,\"#f1b6da\"],[0.4,\"#fde0ef\"],[0.5,\"#f7f7f7\"],[0.6,\"#e6f5d0\"],[0.7,\"#b8e186\"],[0.8,\"#7fbc41\"],[0.9,\"#4d9221\"],[1,\"#276419\"]]},\"xaxis\":{\"gridcolor\":\"white\",\"linecolor\":\"white\",\"ticks\":\"\",\"title\":{\"standoff\":15},\"zerolinecolor\":\"white\",\"automargin\":true,\"zerolinewidth\":2},\"yaxis\":{\"gridcolor\":\"white\",\"linecolor\":\"white\",\"ticks\":\"\",\"title\":{\"standoff\":15},\"zerolinecolor\":\"white\",\"automargin\":true,\"zerolinewidth\":2},\"scene\":{\"xaxis\":{\"backgroundcolor\":\"#E5ECF6\",\"gridcolor\":\"white\",\"linecolor\":\"white\",\"showbackground\":true,\"ticks\":\"\",\"zerolinecolor\":\"white\",\"gridwidth\":2},\"yaxis\":{\"backgroundcolor\":\"#E5ECF6\",\"gridcolor\":\"white\",\"linecolor\":\"white\",\"showbackground\":true,\"ticks\":\"\",\"zerolinecolor\":\"white\",\"gridwidth\":2},\"zaxis\":{\"backgroundcolor\":\"#E5ECF6\",\"gridcolor\":\"white\",\"linecolor\":\"white\",\"showbackground\":true,\"ticks\":\"\",\"zerolinecolor\":\"white\",\"gridwidth\":2}},\"shapedefaults\":{\"line\":{\"color\":\"#2a3f5f\"}},\"annotationdefaults\":{\"arrowcolor\":\"#2a3f5f\",\"arrowhead\":0,\"arrowwidth\":1},\"geo\":{\"bgcolor\":\"white\",\"landcolor\":\"#E5ECF6\",\"subunitcolor\":\"white\",\"showland\":true,\"showlakes\":true,\"lakecolor\":\"white\"},\"title\":{\"x\":0.05},\"mapbox\":{\"style\":\"light\"}}},\"title\":{\"text\":\"3D Scatter Plot\"}},                        {\"responsive\": true}                    ).then(function(){\n",
              "                            \n",
              "var gd = document.getElementById('b5508dcc-3663-4d15-a1e7-257eb3869583');\n",
              "var x = new MutationObserver(function (mutations, observer) {{\n",
              "        var display = window.getComputedStyle(gd).display;\n",
              "        if (!display || display === 'none') {{\n",
              "            console.log([gd, 'removed!']);\n",
              "            Plotly.purge(gd);\n",
              "            observer.disconnect();\n",
              "        }}\n",
              "}});\n",
              "\n",
              "// Listen for the removal of the full notebook cells\n",
              "var notebookContainer = gd.closest('#notebook-container');\n",
              "if (notebookContainer) {{\n",
              "    x.observe(notebookContainer, {childList: true});\n",
              "}}\n",
              "\n",
              "// Listen for the clearing of the current output cell\n",
              "var outputEl = gd.closest('.output');\n",
              "if (outputEl) {{\n",
              "    x.observe(outputEl, {childList: true});\n",
              "}}\n",
              "\n",
              "                        })                };                            </script>        </div>\n",
              "</body>\n",
              "</html>"
            ]
          },
          "metadata": {}
        }
      ],
      "source": [
        "# 13. Create a 3D scatter plot using Plotly\n",
        "import plotly.graph_objs as go\n",
        "x3d = [1, 2, 3, 4]\n",
        "y3d = [10, 11, 12, 13]\n",
        "z3d = [20, 21, 22, 23]\n",
        "fig3d = go.Figure(data=[go.Scatter3d(x=x3d, y=y3d, z=z3d, mode='markers')])\n",
        "fig3d.update_layout(title='3D Scatter Plot')\n",
        "fig3d.show()"
      ]
    }
  ],
  "metadata": {
    "colab": {
      "provenance": []
    },
    "language_info": {
      "name": "python"
    },
    "kernelspec": {
      "name": "python3",
      "display_name": "Python 3"
    }
  },
  "nbformat": 4,
  "nbformat_minor": 5
}